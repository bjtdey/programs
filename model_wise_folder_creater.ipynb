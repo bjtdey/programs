{
 "cells": [
  {
   "cell_type": "code",
   "execution_count": null,
   "id": "6004ee82",
   "metadata": {},
   "outputs": [],
   "source": [
    "def save_classifier_model(df_question_train, df_question_class, model_type=\"linearSVC\"):\n",
    "    \n",
    "    \"\"\"\n",
    "    FIXME: Although the classifier is being saved in Pickle file. It is not being used to predict.\n",
    "    Since, Support Vector Classifier, fails when it encounters new features it failed to see while training.\n",
    "    \"\"\"\n",
    "\n",
    "    classifier_model = None\n",
    "    training_model_path = os.path.join(CORPUS_DIR, QUESTION_CLASSIFICATION_MODEL)\n",
    "\n",
    "    if model_type == \"linearSVC\":\n",
    "        classifier_model = support_vector_machine(df_question_train, df_question_class)\n",
    "    else:\n",
    "        logger.error(\"Undefined Classifier\")\n",
    "\n",
    "    if classifier_model is not None:\n",
    "        joblib.dump(classifier_model, training_model_path)\n",
    "        logger.info(\"Model saved at {0}\".format(training_model_path))\n",
    "    else:\n",
    "        logger.error(\"Model empty\") "
   ]
  }
 ],
 "metadata": {
  "kernelspec": {
   "display_name": "Python 3",
   "language": "python",
   "name": "python3"
  },
  "language_info": {
   "codemirror_mode": {
    "name": "ipython",
    "version": 3
   },
   "file_extension": ".py",
   "mimetype": "text/x-python",
   "name": "python",
   "nbconvert_exporter": "python",
   "pygments_lexer": "ipython3",
   "version": "3.8.8"
  }
 },
 "nbformat": 4,
 "nbformat_minor": 5
}
