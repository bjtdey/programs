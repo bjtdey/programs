{
 "cells": [
  {
   "cell_type": "code",
   "execution_count": 9,
   "id": "323a521e",
   "metadata": {},
   "outputs": [
    {
     "name": "stdout",
     "output_type": "stream",
     "text": [
      "30\n"
     ]
    },
    {
     "name": "stderr",
     "output_type": "stream",
     "text": [
      "<ipython-input-9-b3d12660188f>:7: DeprecationWarning: `np.int` is a deprecated alias for the builtin `int`. To silence this warning, use `int` by itself. Doing this will not modify any behavior and is safe. When replacing `np.int`, you may wish to use e.g. `np.int64` or `np.int32` to specify the precision. If you wish to review your current use, check the release note link for additional information.\n",
      "Deprecated in NumPy 1.20; for more details and guidance: https://numpy.org/devdocs/release/1.20.0-notes.html#deprecations\n",
      "  a=np.int(a)\n"
     ]
    }
   ],
   "source": [
    "import shutil, glob, os\n",
    "import numpy as np\n",
    "\n",
    "src_dir = r\"C:\\Users\\kasti\\OneDrive\\Pictures\\New folder\\Screenshots\"\n",
    "path = glob.glob(r\"C:\\Users\\kasti\\OneDrive\\Pictures\\New folder\\Screenshots\\*.*\")\n",
    "a=len(path)/2\n",
    "a=np.int(a)\n",
    "print(a)"
   ]
  },
  {
   "cell_type": "code",
   "execution_count": 10,
   "id": "35db52f6",
   "metadata": {},
   "outputs": [],
   "source": [
    "dst_dir = src_dir + \"\\subfolder\"\n",
    "if not os.path.exists(dst_dir):\n",
    "    os.makedirs(dst_dir)\n",
    "# print(dst_dir)"
   ]
  },
  {
   "cell_type": "code",
   "execution_count": 11,
   "id": "3647694f",
   "metadata": {},
   "outputs": [],
   "source": [
    "for file in path:\n",
    "    if(a>0):\n",
    "        a-=1\n",
    "        shutil.move(file, dst_dir)\n",
    "    "
   ]
  },
  {
   "cell_type": "code",
   "execution_count": 33,
   "id": "740d1255",
   "metadata": {},
   "outputs": [
    {
     "name": "stdout",
     "output_type": "stream",
     "text": [
      "31\n"
     ]
    }
   ],
   "source": [
    "for i in range(a):\n",
    "    i=i+1\n",
    "print(i)"
   ]
  },
  {
   "cell_type": "code",
   "execution_count": null,
   "id": "373c9c60",
   "metadata": {},
   "outputs": [],
   "source": []
  }
 ],
 "metadata": {
  "kernelspec": {
   "display_name": "Python 3",
   "language": "python",
   "name": "python3"
  },
  "language_info": {
   "codemirror_mode": {
    "name": "ipython",
    "version": 3
   },
   "file_extension": ".py",
   "mimetype": "text/x-python",
   "name": "python",
   "nbconvert_exporter": "python",
   "pygments_lexer": "ipython3",
   "version": "3.8.11"
  }
 },
 "nbformat": 4,
 "nbformat_minor": 5
}
