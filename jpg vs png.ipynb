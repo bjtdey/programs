{
 "cells": [
  {
   "cell_type": "code",
   "execution_count": 66,
   "id": "0b4af588",
   "metadata": {},
   "outputs": [
    {
     "name": "stdout",
     "output_type": "stream",
     "text": [
      "C:\\Users\\kasti\\OneDrive\\Pictures\\Screenshots\\subfolder 1\\*.jpg C:\\Users\\kasti\\OneDrive\\Pictures\\Screenshots\\subfolder 1\\*.png\n"
     ]
    }
   ],
   "source": [
    "import shutil, os, glob\n",
    "from PIL import Image\n",
    "img_path=[r'C:\\Users\\kasti\\OneDrive\\Pictures\\Screenshots\\subfolder 1\\*.jpg', r'C:\\Users\\kasti\\OneDrive\\Pictures\\Screenshots\\subfolder 1\\*.png']\n",
    "# img_path1 = r\"C:\\Users\\kasti\\OneDrive\\Pictures\\Screenshots\\subfolder 1\\*.jpg\"\n",
    "# img_path2 = glob.glob(r\"C:\\Users\\kasti\\OneDrive\\Pictures\\Screenshots\\subfolder 1\\*.png\")\n",
    "dst = r\"C:\\Users\\kasti\\OneDrive\\Pictures\\Screenshots\\subfolder 1\"\n",
    "\n",
    "list=['JPG', 'PNG']\n",
    "#list=['JPG', 'PNG'] \n",
    "#         0     1 \n",
    "count=0\n",
    "print(img_path[0], img_path[1])"
   ]
  },
  {
   "cell_type": "code",
   "execution_count": 68,
   "id": "0f6ca5c0",
   "metadata": {},
   "outputs": [
    {
     "name": "stdout",
     "output_type": "stream",
     "text": [
      "['C:\\\\Users\\\\kasti\\\\OneDrive\\\\Pictures\\\\Screenshots\\\\subfolder 1\\\\WIN_20211001_11_02_06_Pro.jpg', 'C:\\\\Users\\\\kasti\\\\OneDrive\\\\Pictures\\\\Screenshots\\\\subfolder 1\\\\WIN_20211001_11_02_07_Pro.jpg', 'C:\\\\Users\\\\kasti\\\\OneDrive\\\\Pictures\\\\Screenshots\\\\subfolder 1\\\\WIN_20211001_11_02_08_Pro (2).jpg', 'C:\\\\Users\\\\kasti\\\\OneDrive\\\\Pictures\\\\Screenshots\\\\subfolder 1\\\\WIN_20211001_11_02_08_Pro.jpg', 'C:\\\\Users\\\\kasti\\\\OneDrive\\\\Pictures\\\\Screenshots\\\\subfolder 1\\\\WIN_20211001_11_02_09_Pro.jpg']\n",
      "5\n",
      "['C:\\\\Users\\\\kasti\\\\OneDrive\\\\Pictures\\\\Screenshots\\\\subfolder 1\\\\Screenshot (10).png', 'C:\\\\Users\\\\kasti\\\\OneDrive\\\\Pictures\\\\Screenshots\\\\subfolder 1\\\\Screenshot (11).png', 'C:\\\\Users\\\\kasti\\\\OneDrive\\\\Pictures\\\\Screenshots\\\\subfolder 1\\\\Screenshot (5).png', 'C:\\\\Users\\\\kasti\\\\OneDrive\\\\Pictures\\\\Screenshots\\\\subfolder 1\\\\Screenshot (6).png', 'C:\\\\Users\\\\kasti\\\\OneDrive\\\\Pictures\\\\Screenshots\\\\subfolder 1\\\\Screenshot (7).png', 'C:\\\\Users\\\\kasti\\\\OneDrive\\\\Pictures\\\\Screenshots\\\\subfolder 1\\\\Screenshot (8).png', 'C:\\\\Users\\\\kasti\\\\OneDrive\\\\Pictures\\\\Screenshots\\\\subfolder 1\\\\Screenshot (9).png']\n",
      "12\n"
     ]
    }
   ],
   "source": [
    "for i in range(0,2):   \n",
    "    img=glob.glob(img_path[i])\n",
    "    print(img)\n",
    "    for file in img:\n",
    "            key=i\n",
    "            dst1 = dst + \"//\"+ list[key]+\"//\"\n",
    "            if not os.path.exists(dst1):\n",
    "                path = os.path.join(dst,list[key])\n",
    "                os.mkdir(path)\n",
    "\n",
    "            shutil.move(file,dst1)\n",
    "            count=count+1\n",
    "    print(count)"
   ]
  },
  {
   "cell_type": "code",
   "execution_count": 54,
   "id": "4381a639",
   "metadata": {},
   "outputs": [
    {
     "name": "stdout",
     "output_type": "stream",
     "text": [
      "6\n",
      "7\n",
      "8\n",
      "9\n",
      "10\n",
      "11\n",
      "12\n"
     ]
    }
   ],
   "source": [
    "for file in img_path2:\n",
    "        key=1\n",
    "        dst1 = dst + \"//\"+ list[key]+\"//\"\n",
    "        if not os.path.exists(dst1):\n",
    "            path = os.path.join(dst,list[key])\n",
    "            os.mkdir(path)\n",
    "\n",
    "        shutil.move(file,dst1)\n",
    "        count=count+1\n",
    "        print(count)"
   ]
  },
  {
   "cell_type": "code",
   "execution_count": 49,
   "id": "302ca84c",
   "metadata": {},
   "outputs": [
    {
     "name": "stdout",
     "output_type": "stream",
     "text": [
      "0\n",
      "1\n"
     ]
    }
   ],
   "source": [
    "for i in range(0,2):\n",
    "    print(i)"
   ]
  },
  {
   "cell_type": "code",
   "execution_count": null,
   "id": "4d8e9631",
   "metadata": {},
   "outputs": [],
   "source": []
  }
 ],
 "metadata": {
  "kernelspec": {
   "display_name": "Python 3",
   "language": "python",
   "name": "python3"
  },
  "language_info": {
   "codemirror_mode": {
    "name": "ipython",
    "version": 3
   },
   "file_extension": ".py",
   "mimetype": "text/x-python",
   "name": "python",
   "nbconvert_exporter": "python",
   "pygments_lexer": "ipython3",
   "version": "3.8.8"
  }
 },
 "nbformat": 4,
 "nbformat_minor": 5
}
