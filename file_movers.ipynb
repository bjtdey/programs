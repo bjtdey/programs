{
 "cells": [
  {
   "cell_type": "code",
   "execution_count": null,
   "id": "f95b82cc",
   "metadata": {},
   "outputs": [],
   "source": [
    "import os\n",
    "import shutil\n",
    "path=\"/home/bijit/bijit/azcopy_linux_amd64_10.13.0/redLineCutNovDec/\"\n",
    "# pth=\"/home/bijit/bijit/azcopy_linux_amd64_10.13.0/bijit_analysis/monthly_FNs_/qr_poi_micro/images/real\"\n",
    "li=os.listdir(path+\"/\")\n",
    "print(li)\n",
    "# os.mkdir(path+\"/images\")\n",
    "# os.mkdir(path+\"/images\"+\"/fake\")\n",
    "# os.mkdir(path+\"/model\")\n",
    "# os.mkdir(path+\"/*.h5\")\n",
    "for i in li:\n",
    "#     i.split('.')\n",
    "#     b=int(i[-1])\n",
    "#     if int(i[-1])==5:\n",
    "#         print(i[-1])\n",
    "    shutil.move(os.path.join(path,i),path+\"/images/fake\")\n",
    "print(len(li))"
   ]
  },
  {
   "cell_type": "code",
   "execution_count": 1,
   "id": "386f49ff",
   "metadata": {},
   "outputs": [
    {
     "name": "stdout",
     "output_type": "stream",
     "text": [
      "['redLineCutDec01to16.csv', 'redLineCutDec01to16_', 'redLineCutNov01to21.csv', 'redLineCutNov01to21_', 'redLineCutDec24toJan08_', 'redLineCutDec24toJan08.csv', 'redline_poi_v2.h5']\n"
     ]
    },
    {
     "ename": "ValueError",
     "evalue": "invalid literal for int() with base 10: 'v'",
     "output_type": "error",
     "traceback": [
      "\u001b[0;31m---------------------------------------------------------------------------\u001b[0m",
      "\u001b[0;31mValueError\u001b[0m                                Traceback (most recent call last)",
      "\u001b[0;32m/tmp/ipykernel_2930/1923024040.py\u001b[0m in \u001b[0;36m<module>\u001b[0;34m\u001b[0m\n\u001b[1;32m     11\u001b[0m \u001b[0;32mfor\u001b[0m \u001b[0mi\u001b[0m \u001b[0;32min\u001b[0m \u001b[0mli\u001b[0m\u001b[0;34m:\u001b[0m\u001b[0;34m\u001b[0m\u001b[0;34m\u001b[0m\u001b[0m\n\u001b[1;32m     12\u001b[0m     \u001b[0mi\u001b[0m\u001b[0;34m.\u001b[0m\u001b[0msplit\u001b[0m\u001b[0;34m(\u001b[0m\u001b[0;34m'.'\u001b[0m\u001b[0;34m)\u001b[0m\u001b[0;34m\u001b[0m\u001b[0;34m\u001b[0m\u001b[0m\n\u001b[0;32m---> 13\u001b[0;31m     \u001b[0mb\u001b[0m\u001b[0;34m=\u001b[0m\u001b[0mint\u001b[0m\u001b[0;34m(\u001b[0m\u001b[0mi\u001b[0m\u001b[0;34m[\u001b[0m\u001b[0;34m-\u001b[0m\u001b[0;36m1\u001b[0m\u001b[0;34m]\u001b[0m\u001b[0;34m)\u001b[0m\u001b[0;34m\u001b[0m\u001b[0;34m\u001b[0m\u001b[0m\n\u001b[0m\u001b[1;32m     14\u001b[0m     \u001b[0;32mif\u001b[0m \u001b[0mint\u001b[0m\u001b[0;34m(\u001b[0m\u001b[0mi\u001b[0m\u001b[0;34m[\u001b[0m\u001b[0;34m-\u001b[0m\u001b[0;36m1\u001b[0m\u001b[0;34m]\u001b[0m\u001b[0;34m)\u001b[0m\u001b[0;34m==\u001b[0m\u001b[0;36m5\u001b[0m\u001b[0;34m:\u001b[0m\u001b[0;34m\u001b[0m\u001b[0;34m\u001b[0m\u001b[0m\n\u001b[1;32m     15\u001b[0m         \u001b[0mprint\u001b[0m\u001b[0;34m(\u001b[0m\u001b[0mi\u001b[0m\u001b[0;34m[\u001b[0m\u001b[0;34m-\u001b[0m\u001b[0;36m1\u001b[0m\u001b[0;34m]\u001b[0m\u001b[0;34m)\u001b[0m\u001b[0;34m\u001b[0m\u001b[0;34m\u001b[0m\u001b[0m\n",
      "\u001b[0;31mValueError\u001b[0m: invalid literal for int() with base 10: 'v'"
     ]
    }
   ],
   "source": [
    "import os\n",
    "import shutil\n",
    "path=\"/home/bijit/bijit/azcopy_linux_amd64_10.13.0/redLineCutNovDec (copy)\"\n",
    "# pth=\"/home/bijit/bijit/azcopy_linux_amd64_10.13.0/bijit_analysis/monthly_FNs_/qr_poi_micro/images/real\"\n",
    "li=os.listdir(path+\"/\")\n",
    "print(li, end=\"\\n\")\n",
    "os.mkdir(path+\"/images\")\n",
    "os.mkdir(path+\"/images\"+\"/fake\")\n",
    "os.mkdir(path+\"/model\")\n",
    "# os.mkdir(path+\"/*.h5\")\n",
    "for i in li:\n",
    "    i.split('.')\n",
    "    b=int(i[-1])\n",
    "    if int(i[-1])==5:\n",
    "        print(i[-1])\n",
    "#     shutil.move(os.path.join(path,i),path+\"/images/fake\")\n",
    "# print(len(li))"
   ]
  },
  {
   "cell_type": "code",
   "execution_count": null,
   "id": "19d21abd",
   "metadata": {},
   "outputs": [],
   "source": []
  }
 ],
 "metadata": {
  "kernelspec": {
   "display_name": "Python 3 (ipykernel)",
   "language": "python",
   "name": "python3"
  },
  "language_info": {
   "codemirror_mode": {
    "name": "ipython",
    "version": 3
   },
   "file_extension": ".py",
   "mimetype": "text/x-python",
   "name": "python",
   "nbconvert_exporter": "python",
   "pygments_lexer": "ipython3",
   "version": "3.8.12"
  }
 },
 "nbformat": 4,
 "nbformat_minor": 5
}
