{
 "cells": [
  {
   "cell_type": "code",
   "execution_count": 46,
   "id": "7590f501",
   "metadata": {},
   "outputs": [],
   "source": [
    "import os\n",
    "import pandas as pd\n",
    "import shutil\n",
    "def loop_directory(directory: str):\n",
    "# '''Loop files in the directory'''\n",
    "    path=directory\n",
    "#     os.mkdir(path+\"images\")\n",
    "#     os.mkdir(path+\"images\"+\"/fake\")\n",
    "#     os.mkdir(path+\"model\")\n",
    "#     for filename in os.listdir(directory):\n",
    "#         if filename.endswith(\".h5\"):\n",
    "#             shutil.move(os.path.join(path,filename),path+\"/model\")\n",
    "#             print(filename, end=\"_\")\n",
    "# \t\t\tfile_directory = os.path.join(directory, filename)\n",
    "# \t\t\tprint(file_directory)\n",
    "# \t\t\tpd.read_csv(file_directory)\n",
    "    for i in os.listdir(path):\n",
    "        y=os.path.join(path,i)\n",
    "        li=os.listdir(y+\"/\")\n",
    "#         print(li)\n",
    "        os.mkdir(y+\"/images\")\n",
    "        os.mkdir(y+\"/images\"+\"/fake\")\n",
    "        os.mkdir(y+\"/model\")\n",
    "        for j in li:\n",
    "            shutil.move(os.path.join(y,j),y+\"/images/fake\")\n",
    "if __name__=='__main__':\n",
    "\tloop_directory('/home/bijit/bijit/azcopy_linux_amd64_10.13.0/redLineCutNovDec/redLineCutNov01to21_/')"
   ]
  },
  {
   "cell_type": "code",
   "execution_count": 7,
   "id": "5227b265",
   "metadata": {},
   "outputs": [
    {
     "ename": "IndentationError",
     "evalue": "unindent does not match any outer indentation level (<tokenize>, line 9)",
     "output_type": "error",
     "traceback": [
      "\u001b[0;36m  File \u001b[0;32m\"<tokenize>\"\u001b[0;36m, line \u001b[0;32m9\u001b[0m\n\u001b[0;31m    print(yes)\u001b[0m\n\u001b[0m    ^\u001b[0m\n\u001b[0;31mIndentationError\u001b[0m\u001b[0;31m:\u001b[0m unindent does not match any outer indentation level\n"
     ]
    }
   ],
   "source": [
    "import os\n",
    "import pandas as pd\n",
    "def loop_directory(directory: str):\n",
    "\t'''Loop files in the directory'''\n",
    "    \n",
    "\n",
    "\tfor filename in os.listdir(directory):\n",
    "\t\tif filename.endswith(\".csv\"):\n",
    "\t\t\tfile_directory = os.path.join(directory, filename)\n",
    "\t\t\tprint(file_directory)\n",
    "\t\t\tpd.read_csv(file_directory)\n",
    "\t\t\n",
    "\t\t\t\n",
    "if __name__=='__main__':\n",
    "\tloop_directory('data/')"
   ]
  },
  {
   "cell_type": "code",
   "execution_count": null,
   "id": "98c83553",
   "metadata": {},
   "outputs": [],
   "source": [
    "import os\n",
    "import pandas as pd\n",
    "def loop_directory(directory: str):\n",
    "# '''Loop files in the directory'''\n",
    "    for filename in os.listdir(directory):\n",
    "        if filename.endswith(\".h5\"):\n",
    "            print(filename, end=\"_\")\n",
    "# \t\t\tfile_directory = os.path.join(directory, filename)\n",
    "# \t\t\tprint(file_directory)\n",
    "# \t\t\tpd.read_csv(file_directory)\n",
    "\n",
    "if __name__=='__main__':\n",
    "\tloop_directory('/home/bijit/bijit/paperspoof/analysis/')"
   ]
  }
 ],
 "metadata": {
  "kernelspec": {
   "display_name": "Python 3 (ipykernel)",
   "language": "python",
   "name": "python3"
  },
  "language_info": {
   "codemirror_mode": {
    "name": "ipython",
    "version": 3
   },
   "file_extension": ".py",
   "mimetype": "text/x-python",
   "name": "python",
   "nbconvert_exporter": "python",
   "pygments_lexer": "ipython3",
   "version": "3.8.12"
  }
 },
 "nbformat": 4,
 "nbformat_minor": 5
}
