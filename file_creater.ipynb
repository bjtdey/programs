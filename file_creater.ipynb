{
 "cells": [
  {
   "cell_type": "code",
   "execution_count": null,
   "id": "31f264cb",
   "metadata": {},
   "outputs": [],
   "source": [
    "def create_path_if_not_exists(datapath):\n",
    "    '''Create the new file if not exists and save the data'''\n",
    "\n",
    "    if not os.path.exists(datapath):\n",
    "        os.makedirs(datapath) \n",
    "        \n",
    "if __name__=='__main__':\n",
    "create_path_if_not_exists('model/model1/XGBoost/version_1')"
   ]
  }
 ],
 "metadata": {
  "kernelspec": {
   "display_name": "Python 3",
   "language": "python",
   "name": "python3"
  },
  "language_info": {
   "codemirror_mode": {
    "name": "ipython",
    "version": 3
   },
   "file_extension": ".py",
   "mimetype": "text/x-python",
   "name": "python",
   "nbconvert_exporter": "python",
   "pygments_lexer": "ipython3",
   "version": "3.8.8"
  }
 },
 "nbformat": 4,
 "nbformat_minor": 5
}
