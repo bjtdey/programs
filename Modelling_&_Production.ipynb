{
 "cells": [
  {
   "cell_type": "markdown",
   "id": "9b294909",
   "metadata": {},
   "source": [
    "# Image resizing"
   ]
  },
  {
   "cell_type": "code",
   "execution_count": 1,
   "id": "bc835aab",
   "metadata": {},
   "outputs": [],
   "source": [
    "from PIL import Image\n",
    "\n"
   ]
  },
  {
   "cell_type": "code",
   "execution_count": 5,
   "id": "5088c8c8",
   "metadata": {},
   "outputs": [
    {
     "name": "stdout",
     "output_type": "stream",
     "text": [
      "3\n",
      "C:\\Users\\udaya\\Downloads\\A_Prod_P1\\Input\\input_p1.jpg\n",
      "(720, 480)\n",
      "C:\\Users\\udaya\\Downloads\\A_Prod_P1\\Input\\input_p2.jpg\n",
      "(720, 480)\n",
      "C:\\Users\\udaya\\Downloads\\A_Prod_P1\\Input\\input_p3.jpg\n",
      "(720, 480)\n",
      "[<PIL.JpegImagePlugin.JpegImageFile image mode=RGB size=720x480 at 0x1925B634430>, <PIL.JpegImagePlugin.JpegImageFile image mode=RGB size=720x480 at 0x1925B6349A0>, <PIL.JpegImagePlugin.JpegImageFile image mode=RGB size=720x480 at 0x1925B717DF0>]\n"
     ]
    }
   ],
   "source": [
    "n=int(input())\n",
    "list_img=[]\n",
    "for i in range(n):\n",
    "    a=input()\n",
    "    image =Image.open(a) # paste the path of the image\n",
    "    size=image.size # the dimensions of the image is stored in size\n",
    "    list_img.append(image)\n",
    "    print(size)\n",
    "    image\n",
    "print(list_img)\n",
    "    #this will dispaly the image here \n",
    "#r\"C:\\Users\\udaya\\Downloads\\A_Prod_P1\\Input\\in1.jpg\""
   ]
  },
  {
   "cell_type": "code",
   "execution_count": 6,
   "id": "d5acef2b",
   "metadata": {},
   "outputs": [
    {
     "name": "stdout",
     "output_type": "stream",
     "text": [
      "sa.jpg\n",
      "(224, 224)\n",
      "si.jpg\n",
      "(224, 224)\n",
      "pk.jpg\n",
      "(224, 224)\n",
      "[<PIL.Image.Image image mode=RGB size=224x224 at 0x1925B559FA0>, <PIL.Image.Image image mode=RGB size=224x224 at 0x1925B554370>, <PIL.Image.Image image mode=RGB size=224x224 at 0x1925B55F850>]\n"
     ]
    }
   ],
   "source": [
    "img_resize=[]\n",
    "for i in range(len(list_img)):\n",
    "    a=list_img[i]\n",
    "    image_resize = a.resize((224,224))\n",
    "    b=input()# this will resize the image we given into 224*224  \n",
    "    image_resize.save(b)#the resized image should be saved  here we provide the name to store it\n",
    "    img_resize.append(image_resize)\n",
    "    print(image_resize.size)\n",
    "    \n",
    "print(img_resize)\n"
   ]
  },
  {
   "cell_type": "code",
   "execution_count": 15,
   "id": "95f0825e",
   "metadata": {},
   "outputs": [],
   "source": [
    "#we can include this line if we want to see the image \n",
    "for i in range(len(img_resize)):\n",
    "        img_resize[i]"
   ]
  }
 ],
 "metadata": {
  "kernelspec": {
   "display_name": "Python 3",
   "language": "python",
   "name": "python3"
  },
  "language_info": {
   "codemirror_mode": {
    "name": "ipython",
    "version": 3
   },
   "file_extension": ".py",
   "mimetype": "text/x-python",
   "name": "python",
   "nbconvert_exporter": "python",
   "pygments_lexer": "ipython3",
   "version": "3.8.11"
  }
 },
 "nbformat": 4,
 "nbformat_minor": 5
}
