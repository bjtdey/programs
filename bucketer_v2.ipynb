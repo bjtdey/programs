{
 "cells": [
  {
   "cell_type": "code",
   "execution_count": null,
   "id": "d4b9e389",
   "metadata": {},
   "outputs": [],
   "source": [
    "for image in os.listdir(img_path):\n",
    "# creating an og_image object -->\n",
    "    img = img_path + image\n",
    "#     og_image = Image.open(img)\n",
    "#     p=og_image.show()\n",
    "\n",
    "    imgplot = plt.imshow(mpimg.imread(img))\n",
    "    plt.ion()\n",
    "    plt.show()\n",
    "\n",
    "#    p = subprocess.Popen([Image.show(), \"og_image\"])\n",
    "    key=int(input(\"Enter a key : \"))\n",
    "\n",
    "    dst_dir = den1 + \"//\"+ list[key]+\"//\"\n",
    "    if not os.path.exists(dst_dir):\n",
    "        path = os.path.join(den1,list[key])\n",
    "        os.mkdir(path)\n",
    "        \n",
    "    src = img\n",
    "    dst = dst_dir + image\n",
    "    shutil.move(src,dst)\n",
    "    count=count+1\n",
    "    print(count)\n",
    "    plt.close()"
   ]
  },
  {
   "cell_type": "code",
   "execution_count": 4,
   "id": "1ddd649b",
   "metadata": {},
   "outputs": [],
   "source": [
    "import shutil, os,cv2\n",
    "from PIL import Image \n",
    "import matplotlib.pyplot as plt\n",
    "import matplotlib.image as mpimg\n",
    "\n",
    "\n",
    "img_path = r\"/home/bijit/bijit/azcopy_linux_amd64_10.13.0/bijit_analysis/qr_poi_redline/images/fake/\"\n",
    "den1 = r\"/home/bijit/bijit/azcopy_linux_amd64_10.13.0/bijit_analysis/qr_poi_redline/images/fake\"\n",
    "\n",
    "list=['Horizontal_cut', 'Side_cut', 'Angle_cut','Damaged', 'Slight_Horizontal_cut', 'Slight_Side_cut', 'Proper_card', 'others', 'redline']\n",
    "#           0            1           2                 3                   4                 5                6           7          8\n",
    "\n",
    "# micro\n",
    "#list=['Emblem_cut', 'QR_cut', 'Address_cut','Issue&Downloadcuts', 'Slight_QR_cut', 'Aadhar_logo_cut', 'Proper_card', 'others', 'redline']\n",
    "# redline\n",
    "#list=['Horizontal_cut', 'Side_cut', 'Angle_cut','Damaged', 'Slight_Horizontal_cut', 'Slight_Side_cut', 'Proper_card', 'others', 'redline']\n",
    "count=0"
   ]
  },
  {
   "cell_type": "code",
   "execution_count": null,
   "id": "14fc67c8",
   "metadata": {},
   "outputs": [],
   "source": [
    "def imviewer():   \n",
    "    from skimage.viewer import ImageViewer\n",
    "    from skimage.io import imread\n",
    "\n",
    "    img = imread('image.png') #path to IMG\n",
    "    view = ImageViewer(img)\n",
    "    view.show()"
   ]
  },
  {
   "cell_type": "code",
   "execution_count": null,
   "id": "c20c15c9",
   "metadata": {},
   "outputs": [],
   "source": [
    "for image in os.listdir(img_path):\n",
    "# creating an og_image object -->\n",
    "    img = img_path + image\n",
    "#    og_image = Image.open(img)\n",
    "#     p=og_image.show()\n",
    "    img  = cv2.imread(img)\n",
    "    cv2.imshow(image,img)\n",
    "    cv2.waitKey(0)\n",
    "    \n",
    "\n",
    "#     imgplot = plt.imshow(mpimg.imread(img))\n",
    "#     plt.ion()\n",
    "#     plt.show()\n",
    "\n",
    "#    p = subprocess.Popen([Image.show(), \"og_image\"])\n",
    "    key=int(input(\"Enter a key : \"))\n",
    "    \n",
    "    \n",
    "    dst_dir = den1 + \"//\"+ list[key]+\"//\"\n",
    "    if not os.path.exists(dst_dir):\n",
    "        path = os.path.join(den1,list[key])\n",
    "        os.mkdir(path)\n",
    "        \n",
    "    src = img\n",
    "    dst = dst_dir + image\n",
    "    shutil.move(src,dst)\n",
    "    \n",
    "    count=count+1\n",
    "    print(count)\n",
    "#     plt.close() \n",
    "    cv2.destroyAllWindows()"
   ]
  },
  {
   "cell_type": "code",
   "execution_count": null,
   "id": "f1e85553",
   "metadata": {},
   "outputs": [],
   "source": []
  }
 ],
 "metadata": {
  "kernelspec": {
   "display_name": "Python 3",
   "language": "python",
   "name": "python3"
  },
  "language_info": {
   "codemirror_mode": {
    "name": "ipython",
    "version": 3
   },
   "file_extension": ".py",
   "mimetype": "text/x-python",
   "name": "python",
   "nbconvert_exporter": "python",
   "pygments_lexer": "ipython3",
   "version": "3.8.8"
  }
 },
 "nbformat": 4,
 "nbformat_minor": 5
}
