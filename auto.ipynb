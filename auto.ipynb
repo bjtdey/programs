{
 "cells": [
  {
   "cell_type": "code",
   "execution_count": 4,
   "id": "e5756e2b",
   "metadata": {},
   "outputs": [
    {
     "name": "stdout",
     "output_type": "stream",
     "text": [
      "/home/bijit/Downloads/de_redlinecut_1_23aug_/prod/fps/monthly_FPs_/de_poa_macro/*.jpg /home/bijit/Downloads/de_redlinecut_1_23aug_/prod/fps/monthly_FPs_/de_poa_macro\\*.png\n"
     ]
    }
   ],
   "source": [
    "import shutil, os, glob\n",
    "from PIL import Image\n",
    "i=0\n",
    "img_path=[r'/home/bijit/Downloads/de_redlinecut_1_23aug_/prod/fps/monthly_FPs_/de_poa_macro/*.jpg', r'/home/bijit/Downloads/de_redlinecut_1_23aug_/prod/fps/monthly_FPs_/de_poa_macro\\*.png']\n",
    "# img_path1 = r\"C:\\Users\\kasti\\OneDrive\\Pictures\\Screenshots\\subfolder 1\\*.jpg\"\n",
    "# img_path2 = glob.glob(r\"C:\\Users\\kasti\\OneDrive\\Pictures\\Screenshots\\subfolder 1\\*.png\")\n",
    "dst = img_path[i]\n",
    "\n",
    "list=['images', 'PNG']\n",
    "#list=['JPG', 'PNG'] \n",
    "#         0     1 \n",
    "count=0\n",
    "print(img_path[0], img_path[1])"
   ]
  },
  {
   "cell_type": "code",
   "execution_count": 5,
   "id": "d888743e",
   "metadata": {},
   "outputs": [
    {
     "name": "stdout",
     "output_type": "stream",
     "text": [
      "2\n",
      "0\n"
     ]
    }
   ],
   "source": [
    "for i in range(0,2):   \n",
    "    img=glob.glob(img_path[i])\n",
    "    print(len(img))"
   ]
  },
  {
   "cell_type": "code",
   "execution_count": 6,
   "id": "5344e6fe",
   "metadata": {},
   "outputs": [
    {
     "name": "stdout",
     "output_type": "stream",
     "text": [
      "['/home/bijit/Downloads/de_redlinecut_1_23aug_/prod/fps/monthly_FPs_/de_poa_macro/11258bcd1d649bdd2ef3a66e750eda55_image.jpg', '/home/bijit/Downloads/de_redlinecut_1_23aug_/prod/fps/monthly_FPs_/de_poa_macro/5a93ab8cf15f402a3f641b195758de99_image.jpg']\n"
     ]
    },
    {
     "ename": "FileNotFoundError",
     "evalue": "[Errno 2] No such file or directory: '/home/bijit/Downloads/de_redlinecut_1_23aug_/prod/fps/monthly_FPs_/de_poa_macro/*.jpg/images'",
     "output_type": "error",
     "traceback": [
      "\u001b[0;31m---------------------------------------------------------------------------\u001b[0m",
      "\u001b[0;31mFileNotFoundError\u001b[0m                         Traceback (most recent call last)",
      "\u001b[0;32m<ipython-input-6-a0d7090f6089>\u001b[0m in \u001b[0;36m<module>\u001b[0;34m\u001b[0m\n\u001b[1;32m      7\u001b[0m             \u001b[0;32mif\u001b[0m \u001b[0;32mnot\u001b[0m \u001b[0mos\u001b[0m\u001b[0;34m.\u001b[0m\u001b[0mpath\u001b[0m\u001b[0;34m.\u001b[0m\u001b[0mexists\u001b[0m\u001b[0;34m(\u001b[0m\u001b[0mdst1\u001b[0m\u001b[0;34m)\u001b[0m\u001b[0;34m:\u001b[0m\u001b[0;34m\u001b[0m\u001b[0;34m\u001b[0m\u001b[0m\n\u001b[1;32m      8\u001b[0m                 \u001b[0mpath\u001b[0m \u001b[0;34m=\u001b[0m \u001b[0mos\u001b[0m\u001b[0;34m.\u001b[0m\u001b[0mpath\u001b[0m\u001b[0;34m.\u001b[0m\u001b[0mjoin\u001b[0m\u001b[0;34m(\u001b[0m\u001b[0mdst\u001b[0m\u001b[0;34m,\u001b[0m\u001b[0mlist\u001b[0m\u001b[0;34m[\u001b[0m\u001b[0mkey\u001b[0m\u001b[0;34m]\u001b[0m\u001b[0;34m)\u001b[0m\u001b[0;34m\u001b[0m\u001b[0;34m\u001b[0m\u001b[0m\n\u001b[0;32m----> 9\u001b[0;31m                 \u001b[0mos\u001b[0m\u001b[0;34m.\u001b[0m\u001b[0mmkdir\u001b[0m\u001b[0;34m(\u001b[0m\u001b[0mpath\u001b[0m\u001b[0;34m)\u001b[0m\u001b[0;34m\u001b[0m\u001b[0;34m\u001b[0m\u001b[0m\n\u001b[0m\u001b[1;32m     10\u001b[0m \u001b[0;34m\u001b[0m\u001b[0m\n\u001b[1;32m     11\u001b[0m             \u001b[0mshutil\u001b[0m\u001b[0;34m.\u001b[0m\u001b[0mmove\u001b[0m\u001b[0;34m(\u001b[0m\u001b[0mfile\u001b[0m\u001b[0;34m,\u001b[0m\u001b[0mdst1\u001b[0m\u001b[0;34m)\u001b[0m\u001b[0;34m\u001b[0m\u001b[0;34m\u001b[0m\u001b[0m\n",
      "\u001b[0;31mFileNotFoundError\u001b[0m: [Errno 2] No such file or directory: '/home/bijit/Downloads/de_redlinecut_1_23aug_/prod/fps/monthly_FPs_/de_poa_macro/*.jpg/images'"
     ]
    }
   ],
   "source": [
    "for i in range(0,2):   \n",
    "    img=glob.glob(img_path[i])\n",
    "    print(img)\n",
    "    for file in img:\n",
    "            key=i\n",
    "            dst1 = dst + \"//\"+ list[key]+\"//\"\n",
    "            if not os.path.exists(dst1):\n",
    "                path = os.path.join(dst,list[key])\n",
    "                os.mkdir(path)\n",
    "\n",
    "            shutil.move(file,dst1)\n",
    "            count=count+1\n",
    "    print(count)"
   ]
  },
  {
   "cell_type": "code",
   "execution_count": null,
   "id": "3eba2da4",
   "metadata": {},
   "outputs": [],
   "source": []
  }
 ],
 "metadata": {
  "kernelspec": {
   "display_name": "Python 3 (ipykernel)",
   "language": "python",
   "name": "python3"
  },
  "language_info": {
   "codemirror_mode": {
    "name": "ipython",
    "version": 3
   },
   "file_extension": ".py",
   "mimetype": "text/x-python",
   "name": "python",
   "nbconvert_exporter": "python",
   "pygments_lexer": "ipython3",
   "version": "3.8.12"
  }
 },
 "nbformat": 4,
 "nbformat_minor": 5
}
