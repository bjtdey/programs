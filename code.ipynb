{
 "cells": [
  {
   "cell_type": "code",
   "execution_count": 3,
   "id": "fe19f62c",
   "metadata": {},
   "outputs": [
    {
     "name": "stdout",
     "output_type": "stream",
     "text": [
      "C:\\Users\\Teju\\OneDrive\\jupyter1DRIVECODES\\MATHANALYSS\\task2\\ins\n",
      "10\n",
      "5\n",
      "1.jpg\n",
      "['1.jpg']\n",
      "10.png\n",
      "['1.jpg', '10.png']\n",
      "2.jpg\n",
      "['1.jpg', '10.png', '2.jpg']\n",
      "3.jpg\n",
      "['1.jpg', '10.png', '2.jpg', '3.jpg']\n",
      "4.jpg\n",
      "['1.jpg', '10.png', '2.jpg', '3.jpg', '4.jpg']\n",
      "5.jpg\n",
      "6.jpg\n",
      "7.jpg\n",
      "8.jpg\n",
      "9.jpg\n"
     ]
    }
   ],
   "source": [
    "import os,shutil\n",
    "APP_FOLDER = str(input())\n",
    "totalFiles = 0\n",
    "for base,dirs,files in os.walk(APP_FOLDER):\n",
    "   # print('Searching in : ',base)\n",
    "   # print(files)\n",
    "    for Files in files:\n",
    "        \n",
    "        totalFiles += 1\n",
    "        \n",
    "print(totalFiles)\n",
    "half=int(totalFiles/2)\n",
    "print(half)\n",
    "arr1=[]\n",
    "c=0\n",
    "for Files in files:\n",
    "    print(Files)\n",
    "    if c<half:\n",
    "        arr1.append(Files)\n",
    "        print(arr1)\n",
    "    c=c+1\n",
    "for i in range(len(arr1)):\n",
    "    shutil.move(APP_FOLDER+\"\\\\\"+arr1[i],'out')\n",
    "    \n",
    "    \n",
    "        \n",
    "\n"
   ]
  },
  {
   "cell_type": "code",
   "execution_count": null,
   "id": "e1aea189",
   "metadata": {},
   "outputs": [],
   "source": []
  }
 ],
 "metadata": {
  "kernelspec": {
   "display_name": "Python 3",
   "language": "python",
   "name": "python3"
  },
  "language_info": {
   "codemirror_mode": {
    "name": "ipython",
    "version": 3
   },
   "file_extension": ".py",
   "mimetype": "text/x-python",
   "name": "python",
   "nbconvert_exporter": "python",
   "pygments_lexer": "ipython3",
   "version": "3.8.11"
  }
 },
 "nbformat": 4,
 "nbformat_minor": 5
}
