{
 "cells": [
  {
   "cell_type": "code",
   "execution_count": null,
   "id": "128faa4e",
   "metadata": {},
   "outputs": [],
   "source": [
    "import argparse\n",
    "import os\n",
    "import shutil\n",
    "\n",
    "N = 10  # the number of files in seach subfolder folder\n",
    "\n",
    "\n",
    "def move_files(abs_dirname):\n",
    "    \"\"\"Move files into subdirectories.\"\"\"\n",
    "\n",
    "    files = [os.path.join(abs_dirname, f) for f in os.listdir(abs_dirname)]\n",
    "\n",
    "    i = 0\n",
    "    curr_subdir = None\n",
    "\n",
    "    for f in files:\n",
    "        # create new subdir if necessary\n",
    "        if i % N == 0:\n",
    "            subdir_name = os.path.join(abs_dirname, '{0:03d}'.format(i / N + 1))\n",
    "            os.mkdir(subdir_name)\n",
    "            curr_subdir = subdir_name\n",
    "\n",
    "        # move file to current dir\n",
    "        f_base = os.path.basename(f)\n",
    "        shutil.move(f, os.path.join(subdir_name, f_base))\n",
    "        i += 1\n",
    "\n",
    "\n",
    "def parse_args():\n",
    "    \"\"\"Parse command line arguments passed to script invocation.\"\"\"\n",
    "    parser = argparse.ArgumentParser(\n",
    "        description='Split files into multiple subfolders.')\n",
    "\n",
    "    parser.add_argument('src_dir', help='source directory')\n",
    "\n",
    "    return parser.parse_args()\n",
    "\n",
    "\n",
    "def main():\n",
    "    \"\"\"Module's main entry point (zopectl.command).\"\"\"\n",
    "    args = parse_args()\n",
    "    src_dir = args.src_dir\n",
    "\n",
    "    if not os.path.exists(src_dir):\n",
    "        raise Exception('Directory does not exist ({0}).'.format(src_dir))\n",
    "\n",
    "    move_files(os.path.abspath(src_dir))\n",
    "\n",
    "\n",
    "if __name__ == '__main__':\n",
    "    main()"
   ]
  }
 ],
 "metadata": {
  "kernelspec": {
   "display_name": "Python 3",
   "language": "python",
   "name": "python3"
  },
  "language_info": {
   "codemirror_mode": {
    "name": "ipython",
    "version": 3
   },
   "file_extension": ".py",
   "mimetype": "text/x-python",
   "name": "python",
   "nbconvert_exporter": "python",
   "pygments_lexer": "ipython3",
   "version": "3.8.11"
  }
 },
 "nbformat": 4,
 "nbformat_minor": 5
}
